{
 "cells": [
  {
   "cell_type": "markdown",
   "metadata": {},
   "source": [
    "# Planned Exploration\n",
    "\n",
    "## Exploring SMILES for chemical molecules\n",
    "\n",
    "* RDKit:\n",
    "RDKit is a powerful and widely used toolkit for cheminformatics and drug discovery.\n",
    "Website: [RDKit](https://www.rdkit.org/)\n",
    "\n",
    "* Open Babel:\n",
    "Open Babel is an open, collaborative project that provides a chemical toolbox designed to speak the many languages of chemical data.\n",
    "Website: [Open Babel](http://openbabel.org/)\n",
    "\n",
    "* ChemPy:\n",
    "ChemPy is a package useful for chemistry in Python. It supports various chemical operations and calculations.\n",
    "GitHub repository: [ChemPy](https://github.com/bjodah/chempy)\n",
    "\n",
    "* Pybel (a part of the Open Babel project):\n",
    "Pybel is a convenient wrapper for the Open Babel toolkit, providing a Pythonic interface.\n",
    "Documentation: [Pybel Documentation](https://open-babel.readthedocs.io/en/latest/UseTheLibrary/Python_Pybel.html)\n",
    "\n",
    "* Indigo Toolkit:\n",
    "Indigo is a cheminformatics toolkit that includes tools for handling molecular structures.\n",
    "Website: [Indigo Toolkit](https://lifescience.opensource.epam.com/indigo/)\n",
    "\n",
    "* OEChem (OpenEye Chemistry Toolkit):\n",
    "OEChem is a cheminformatics toolkit developed by OpenEye Scientific Software.\n",
    "Website: [OEChem](https://www.eyesopen.com/oechem-tk)\n",
    "\n",
    "* Smilite\n",
    "smilite is a Python module to download and analyze SMILES strings (Simplified Molecular-Input Line-entry System) of chemical compounds from ZINC (a free database of commercially-available compounds for virtual screening, http://zinc.docking.org).\n",
    "Now supports both Python 3.x and Python 2.x.\n",
    "Website: [github smilite](https://github.com/rasbt/smilite)\n",
    "\n"
   ]
  },
  {
   "cell_type": "markdown",
   "metadata": {},
   "source": [
    "### Installation of RDKit\n",
    "\n",
    "    `https://github.com/rdkit/rdkit/blob/master/Docs/Book/Install.md`\n",
    "    `pip install rdkit`\n",
    "\n",
    "\n",
    "    https://github.com/SeongokRyu/CH485---Artificial-Intelligence-and-Chemistry/blob/master/Practice%2005/smiles_cnn_logP.py"
   ]
  },
  {
   "cell_type": "code",
   "execution_count": null,
   "metadata": {},
   "outputs": [],
   "source": [
    "# import rdkit\n",
    "import numpy as np\n",
    "from rdkit import Chem, DataStructs\n",
    "from rdkit.Chem import Descriptors, AllChem\n",
    "from rdkit.Chem.Crippen import MolLogP\n",
    "from rdkit.Chem.rdMolDescriptors import CalcTPSA\n",
    "# import matplotlib.pyplot as plt"
   ]
  },
  {
   "cell_type": "code",
   "execution_count": null,
   "metadata": {},
   "outputs": [
    {
     "name": "stdout",
     "output_type": "stream",
     "text": [
      "Molecular Weight: 46\n"
     ]
    }
   ],
   "source": [
    "# Use SMILES to get molecular weight\n",
    "smiles = \"CCO\"\n",
    "mol = Chem.MolFromSmiles(smiles)\n",
    "mw = Descriptors.MolWt(mol) # Calculate molecular weight using Descriptors module\n",
    "mw_integer = int(mw) # Convert the molecular weight to an integer\n",
    "print(f\"Molecular Weight: {mw_integer}\")"
   ]
  },
  {
   "cell_type": "code",
   "execution_count": null,
   "metadata": {},
   "outputs": [],
   "source": [
    "def read_ZINC(num_mol):\n",
    "    f = open('ZINC.smiles', 'r')\n",
    "    contents = f.readlines()\n",
    "\n",
    "    smi = []\n",
    "    fps = []\n",
    "    logP = []\n",
    "    tpsa = []\n",
    "    for i in range(num_mol):\n",
    "        smi = contents[i].strip()\n",
    "        m = Chem.MolFromSmiles(smi)\n",
    "        fp = AllChem.GetMorganFingerprintAsBitVect(m,2)\n",
    "        arr = np.zeros((1,))\n",
    "        DataStructs.ConvertToNumpyArray(fp,arr)\n",
    "        fps.append(arr)\n",
    "        logP.append(MolLogP(m))\n",
    "        tpsa.append(CalcTPSA(m))\n",
    "\n",
    "    fps = np.asarray(fps).astype(float)\n",
    "    logP = np.asarray(logP).astype(float)\n",
    "    tpsa = np.asarray(tpsa).astype(float)\n",
    "\n",
    "    return fps, logP, tpsa"
   ]
  },
  {
   "cell_type": "markdown",
   "metadata": {},
   "source": [
    "### Install chemspipy to get SMILES from the compound by name - Failed because cannot get API key (WIP)\n",
    "bash : `pip install chemspipy`\n",
    "\n",
    "`from chemspipy import ChemSpider`"
   ]
  },
  {
   "cell_type": "code",
   "execution_count": null,
   "metadata": {},
   "outputs": [],
   "source": [
    "from chemspipy import ChemSpider\n",
    "\n",
    "# Initialize the ChemSpider API client\n",
    "cs = ChemSpider('your_api_key_here')  # You need to obtain an API key from ChemSpider\n",
    "\n",
    "# Search for a compound by name\n",
    "compound_name = \"acetic acid\"\n",
    "results = cs.search(compound_name)\n",
    "\n",
    "# Print the first result's SMILES notation\n",
    "if results:\n",
    "    smiles = results[0].smiles\n",
    "    print(f\"SMILES for {compound_name}: {smiles}\")\n",
    "else:\n",
    "    print(f\"No results found for {compound_name}\")"
   ]
  },
  {
   "cell_type": "markdown",
   "metadata": {},
   "source": [
    "### Attempt to get the SMILES from PubChem  - Failed (WIP)"
   ]
  },
  {
   "cell_type": "code",
   "execution_count": null,
   "metadata": {},
   "outputs": [],
   "source": [
    "# import requests\n",
    "\n",
    "# def get_smiles_from_name(molecule_name):\n",
    "#     base_url = \"https://pubchem.ncbi.nlm.nih.gov/rest/pug/compound/name\"\n",
    "#     search_url = f\"{base_url}/{molecule_name}/property/CanonicalSMILES/JSON\"\n",
    "\n",
    "#     response = requests.get(search_url)\n",
    "\n",
    "#     if response.status_code == 200:\n",
    "#         data = response.json()\n",
    "#         if 'PropertyTable' in data and 'Properties' in data['PropertyTable'][0]:\n",
    "#             smiles = data['PropertyTable'][0]['Properties'][0]['CanonicalSMILES']\n",
    "#             return smiles\n",
    "#         else:\n",
    "#             print(f\"No SMILES found for {molecule_name}\")\n",
    "#     else:\n",
    "#         print(f\"Error: {response.status_code}\")\n",
    "\n",
    "# # Example usage\n",
    "# molecule_name = \"acetic acid\"\n",
    "# smiles_result = get_smiles_from_name(molecule_name)\n",
    "\n",
    "# if smiles_result:\n",
    "#     print(f\"SMILES for {molecule_name}: {smiles_result}\")\n"
   ]
  },
  {
   "cell_type": "code",
   "execution_count": null,
   "metadata": {},
   "outputs": [],
   "source": [
    "print(\"hello world\")"
   ]
  }
 ],
 "metadata": {
  "kernelspec": {
   "display_name": "Python 3",
   "language": "python",
   "name": "python3"
  },
  "language_info": {
   "codemirror_mode": {
    "name": "ipython",
    "version": 3
   },
   "file_extension": ".py",
   "mimetype": "text/x-python",
   "name": "python",
   "nbconvert_exporter": "python",
   "pygments_lexer": "ipython3",
   "version": "3.10.13"
  }
 },
 "nbformat": 4,
 "nbformat_minor": 2
}
